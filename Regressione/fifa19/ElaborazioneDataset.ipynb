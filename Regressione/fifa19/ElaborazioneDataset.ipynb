{
 "cells": [
  {
   "cell_type": "code",
   "execution_count": 1,
   "metadata": {},
   "outputs": [
    {
     "name": "stderr",
     "output_type": "stream",
     "text": [
      "Using TensorFlow backend.\n"
     ]
    }
   ],
   "source": [
    "import numpy as np\n",
    "import pandas as pd\n",
    "from re import sub\n",
    "from time import time\n",
    "import pickle\n",
    "\n",
    "from comet_ml import Experiment\n",
    "\n",
    "from keras.models import Sequential\n",
    "from keras.layers import Dense, BatchNormalization, Dropout\n",
    "from keras_tqdm import TQDMNotebookCallback as ktqdm\n",
    "from keras.utils import normalize\n",
    "from keras.wrappers.scikit_learn import KerasRegressor\n",
    "from keras.callbacks import TensorBoard\n",
    "from keras.optimizers import Adam, SGD\n",
    "from keras.regularizers import l1, l2\n",
    "from keras.initializers import RandomUniform, RandomNormal\n",
    "from keras.layers.advanced_activations import LeakyReLU\n",
    "\n",
    "from sklearn import preprocessing\n",
    "from sklearn.model_selection import train_test_split, StratifiedKFold, KFold\n",
    "from sklearn.preprocessing import RobustScaler, MinMaxScaler, StandardScaler, Normalizer\n",
    "from sklearn.impute import SimpleImputer\n",
    "from sklearn.datasets import make_regression\n",
    "from sklearn.metrics import mean_squared_error, r2_score\n",
    "\n",
    "import scipy.stats as st\n",
    "\n",
    "import seaborn as sns\n",
    "\n",
    "import matplotlib.pyplot as plt"
   ]
  },
  {
   "cell_type": "code",
   "execution_count": 2,
   "metadata": {},
   "outputs": [],
   "source": [
    "# experiment = Experiment(api_key=\"CndJ3YmXyZcxmsV8EccJEuu9C\",\n",
    "#                         project_name=\"NN_Thesis\", workspace=\"paologalligit\")"
   ]
  },
  {
   "cell_type": "code",
   "execution_count": 3,
   "metadata": {},
   "outputs": [],
   "source": [
    "df = pd.read_csv('fifa19.csv')"
   ]
  },
  {
   "cell_type": "code",
   "execution_count": 4,
   "metadata": {},
   "outputs": [],
   "source": [
    "df.drop(columns=['Unnamed: 0', 'ID', 'Photo', 'Flag', 'Club Logo', 'Real Face', 'Preferred Foot',\n",
    "                 'Body Type', 'Jersey Number', 'Joined', 'Loaned From', 'Contract Valid Until'],inplace=True)"
   ]
  },
  {
   "cell_type": "markdown",
   "metadata": {},
   "source": [
    "## Obiettivo: predire valore dei giocatori"
   ]
  },
  {
   "cell_type": "markdown",
   "metadata": {},
   "source": [
    "Pre-processing: convertire value, wage e release clause da string a float"
   ]
  },
  {
   "cell_type": "code",
   "execution_count": 5,
   "metadata": {},
   "outputs": [],
   "source": [
    "curs=[\"Release Clause\", \"Value\", \"Wage\"]\n",
    "\n",
    "for cur in curs:\n",
    "    def curr2val(x):\n",
    "        x = str(x).replace('€', '')\n",
    "        if 'K' in x: x = float(str(x).replace('K', '')) * 1000\n",
    "        else: x = float(str(x).replace('M', '')) * 1000000\n",
    "        return x\n",
    "    df[cur] = df[cur].apply(curr2val)\n",
    "    "
   ]
  },
  {
   "cell_type": "markdown",
   "metadata": {},
   "source": [
    "Individuare eventuali outlier nella colonna value"
   ]
  },
  {
   "cell_type": "code",
   "execution_count": 6,
   "metadata": {},
   "outputs": [],
   "source": [
    "def detect_outlier(data, threshold = 3):\n",
    "    outliers=[]\n",
    "    mean = np.mean(data)\n",
    "    std = np.std(data)\n",
    "    \n",
    "    for y in data:\n",
    "        score= (y - mean) / std \n",
    "        if np.abs(score) > threshold:\n",
    "            outliers.append(y)\n",
    "    return outliers"
   ]
  },
  {
   "cell_type": "code",
   "execution_count": 7,
   "metadata": {},
   "outputs": [],
   "source": [
    "min_out = min(detect_outlier(df['Value'], threshold = 2))\n",
    "\n",
    "df = df[df['Value'] < min_out] \n",
    "df = df[df['Value'] > 0]"
   ]
  },
  {
   "cell_type": "markdown",
   "metadata": {},
   "source": [
    "Conversione in interi per le altre label"
   ]
  },
  {
   "cell_type": "code",
   "execution_count": 8,
   "metadata": {},
   "outputs": [],
   "source": [
    "cols=[\"LS\", \"ST\", \"RS\", \"LW\", \"LF\", \"CF\", \"RF\", \"RW\",\"LAM\", \"CAM\", \"RAM\", \"LM\", \"LCM\", \"CM\", \"RCM\", \"RM\", \"LWB\", \"LDM\",\"CDM\", \"RDM\", \"RWB\", \"LB\", \"LCB\", \"CB\", \"RCB\", \"RB\"]\n",
    "for col in cols:\n",
    "    df[col] = df[col].str[:-2]\n",
    "    df[col] = df[col].astype(float)"
   ]
  },
  {
   "cell_type": "code",
   "execution_count": 9,
   "metadata": {},
   "outputs": [],
   "source": [
    "df['Height'] = df['Height'].str.replace(\"'\",'.')\n",
    "df['Height'] = df['Height'].astype(float)\n",
    "\n",
    "df['Weight'] = df['Weight'].str[:-3]\n",
    "df['Weight'] = df['Weight'].astype(float)"
   ]
  },
  {
   "cell_type": "markdown",
   "metadata": {},
   "source": [
    "Calcolo correlazione tra i valori per scegliere colonne significative"
   ]
  },
  {
   "cell_type": "code",
   "execution_count": 10,
   "metadata": {},
   "outputs": [],
   "source": [
    "df_corr = df.corr()\n",
    "\n",
    "# fig = plt.figure(figsize=(50,20))\n",
    "# ax = fig.add_subplot(111)\n",
    "# cax = ax.matshow(df_corr,cmap='coolwarm', vmin=-1, vmax=1)\n",
    "# fig.colorbar(cax)\n",
    "\n",
    "# ticks = np.arange(0,len(df_corr.columns),1)\n",
    "# ax.set_xticks(ticks)\n",
    "# ax.set_xticklabels(df_corr.columns)\n",
    "# plt.xticks(rotation=90)\n",
    "# ax.set_yticks(ticks)\n",
    "# ax.set_yticklabels(df_corr.columns)\n",
    "\n",
    "# plt.show()"
   ]
  },
  {
   "cell_type": "code",
   "execution_count": 11,
   "metadata": {},
   "outputs": [
    {
     "data": {
      "text/html": [
       "<div>\n",
       "<style scoped>\n",
       "    .dataframe tbody tr th:only-of-type {\n",
       "        vertical-align: middle;\n",
       "    }\n",
       "\n",
       "    .dataframe tbody tr th {\n",
       "        vertical-align: top;\n",
       "    }\n",
       "\n",
       "    .dataframe thead th {\n",
       "        text-align: right;\n",
       "    }\n",
       "</style>\n",
       "<table border=\"1\" class=\"dataframe\">\n",
       "  <thead>\n",
       "    <tr style=\"text-align: right;\">\n",
       "      <th></th>\n",
       "      <th>Overall</th>\n",
       "      <th>Potential</th>\n",
       "      <th>Value</th>\n",
       "      <th>Wage</th>\n",
       "      <th>LCM</th>\n",
       "      <th>CM</th>\n",
       "      <th>RCM</th>\n",
       "      <th>Reactions</th>\n",
       "      <th>Release Clause</th>\n",
       "    </tr>\n",
       "  </thead>\n",
       "  <tbody>\n",
       "    <tr>\n",
       "      <th>41</th>\n",
       "      <td>88</td>\n",
       "      <td>88</td>\n",
       "      <td>4000000.0</td>\n",
       "      <td>77000.0</td>\n",
       "      <td>NaN</td>\n",
       "      <td>NaN</td>\n",
       "      <td>NaN</td>\n",
       "      <td>79.0</td>\n",
       "      <td>7400000.0</td>\n",
       "    </tr>\n",
       "    <tr>\n",
       "      <th>102</th>\n",
       "      <td>85</td>\n",
       "      <td>85</td>\n",
       "      <td>9000000.0</td>\n",
       "      <td>38000.0</td>\n",
       "      <td>70.0</td>\n",
       "      <td>70.0</td>\n",
       "      <td>70.0</td>\n",
       "      <td>85.0</td>\n",
       "      <td>15300000.0</td>\n",
       "    </tr>\n",
       "    <tr>\n",
       "      <th>108</th>\n",
       "      <td>85</td>\n",
       "      <td>85</td>\n",
       "      <td>9000000.0</td>\n",
       "      <td>57000.0</td>\n",
       "      <td>63.0</td>\n",
       "      <td>63.0</td>\n",
       "      <td>63.0</td>\n",
       "      <td>83.0</td>\n",
       "      <td>17100000.0</td>\n",
       "    </tr>\n",
       "    <tr>\n",
       "      <th>152</th>\n",
       "      <td>84</td>\n",
       "      <td>84</td>\n",
       "      <td>4200000.0</td>\n",
       "      <td>95000.0</td>\n",
       "      <td>63.0</td>\n",
       "      <td>63.0</td>\n",
       "      <td>63.0</td>\n",
       "      <td>80.0</td>\n",
       "      <td>6900000.0</td>\n",
       "    </tr>\n",
       "    <tr>\n",
       "      <th>201</th>\n",
       "      <td>83</td>\n",
       "      <td>83</td>\n",
       "      <td>13000000.0</td>\n",
       "      <td>70000.0</td>\n",
       "      <td>NaN</td>\n",
       "      <td>NaN</td>\n",
       "      <td>NaN</td>\n",
       "      <td>78.0</td>\n",
       "      <td>24700000.0</td>\n",
       "    </tr>\n",
       "  </tbody>\n",
       "</table>\n",
       "</div>"
      ],
      "text/plain": [
       "     Overall  Potential       Value     Wage   LCM    CM   RCM  Reactions  \\\n",
       "41        88         88   4000000.0  77000.0   NaN   NaN   NaN       79.0   \n",
       "102       85         85   9000000.0  38000.0  70.0  70.0  70.0       85.0   \n",
       "108       85         85   9000000.0  57000.0  63.0  63.0  63.0       83.0   \n",
       "152       84         84   4200000.0  95000.0  63.0  63.0  63.0       80.0   \n",
       "201       83         83  13000000.0  70000.0   NaN   NaN   NaN       78.0   \n",
       "\n",
       "     Release Clause  \n",
       "41        7400000.0  \n",
       "102      15300000.0  \n",
       "108      17100000.0  \n",
       "152       6900000.0  \n",
       "201      24700000.0  "
      ]
     },
     "execution_count": 11,
     "metadata": {},
     "output_type": "execute_result"
    }
   ],
   "source": [
    "labels = []\n",
    "for label in df_corr:\n",
    "#     if df_corr['Value'][label] < 0 or df_corr['Value'][label] > 0.5: labels.append(label)\n",
    "    if df_corr['Value'][label] > 0.55: labels.append(label)\n",
    "        \n",
    "df_flt = df[labels]        \n",
    "df_flt.head()      "
   ]
  },
  {
   "cell_type": "markdown",
   "metadata": {},
   "source": [
    "Mescolo le righe del dataset"
   ]
  },
  {
   "cell_type": "code",
   "execution_count": 12,
   "metadata": {},
   "outputs": [],
   "source": [
    "df_flt = df_flt.sample(frac=1)\n",
    "\n",
    "train_slice = int(len(df_flt) * 0.8)\n",
    "\n",
    "train = df_flt[:train_slice]\n",
    "test = df_flt[train_slice:]"
   ]
  },
  {
   "cell_type": "code",
   "execution_count": 13,
   "metadata": {},
   "outputs": [],
   "source": [
    "y_train = train.loc[:, ['Value']]\n",
    "X_train = train.drop(columns='Value')\n",
    "\n",
    "y_test = test.loc[:, ['Value']]\n",
    "X_test = test.drop(columns='Value')"
   ]
  },
  {
   "cell_type": "markdown",
   "metadata": {},
   "source": [
    "Sostiuisco eventuali valori nan con la media della colonna"
   ]
  },
  {
   "cell_type": "code",
   "execution_count": 14,
   "metadata": {},
   "outputs": [],
   "source": [
    "imputer = SimpleImputer(missing_values = np.nan, strategy = 'mean')\n",
    "imputer = imputer.fit(X_train)\n",
    "X_full = imputer.transform(X_train)\n",
    "\n",
    "imputer = SimpleImputer(missing_values = np.nan, strategy = 'mean')\n",
    "imputer = imputer.fit(y_train)\n",
    "y_full = imputer.transform(y_train)\n",
    "\n",
    "imputer = SimpleImputer(missing_values = np.nan, strategy = 'mean')\n",
    "imputer = imputer.fit(X_test)\n",
    "X_test_full = imputer.transform(X_test)\n",
    "\n",
    "imputer = SimpleImputer(missing_values = np.nan, strategy = 'mean')\n",
    "imputer = imputer.fit(y_test)\n",
    "y_test_full = imputer.transform(y_test)"
   ]
  },
  {
   "cell_type": "markdown",
   "metadata": {},
   "source": [
    "Scalo i valori, sia per i caratteri che per il target"
   ]
  },
  {
   "cell_type": "code",
   "execution_count": 15,
   "metadata": {},
   "outputs": [],
   "source": [
    "# scaler = RobustScaler()\n",
    "# scaler = scaler.fit(X_train)\n",
    "# X_train = scaler.transform(X_train)\n",
    "\n",
    "# X_train_scaled = preprocessing.scale(X_train)\n",
    "scaler = StandardScaler().fit(X_full)\n",
    "X_scaled = scaler.transform(X_full)\n",
    "\n",
    "scaler_train = StandardScaler().fit(y_full)\n",
    "y_scaled = scaler_train.transform(y_full) \n",
    "# X_train_scaled, X_test_scaled\n",
    "\n",
    "scaler = StandardScaler().fit(X_test_full)\n",
    "X_test_scaled = scaler.transform(X_test_full)\n",
    "\n",
    "scaler_test = StandardScaler().fit(y_test_full)\n",
    "y_test_scaled = scaler_test.transform(y_test_full) "
   ]
  },
  {
   "cell_type": "markdown",
   "metadata": {},
   "source": [
    "### Salvo i dati di training e testing"
   ]
  },
  {
   "cell_type": "code",
   "execution_count": 17,
   "metadata": {},
   "outputs": [],
   "source": [
    "tools = {\n",
    "    'X_scaled': X_scaled,\n",
    "    'y_scaled': y_scaled,\n",
    "    'X_test_scaled': X_test_scaled,\n",
    "    'y_test_scaled': y_test_scaled,\n",
    "    'y_test_full': y_test_full,\n",
    "    'scaler_train': scaler_train\n",
    "}\n",
    "\n",
    "with open('dataset_tools', 'wb') as file:\n",
    "    pickle.dump(tools, file)"
   ]
  }
 ],
 "metadata": {
  "kernelspec": {
   "display_name": "Python 3",
   "language": "python",
   "name": "python3"
  },
  "language_info": {
   "codemirror_mode": {
    "name": "ipython",
    "version": 3
   },
   "file_extension": ".py",
   "mimetype": "text/x-python",
   "name": "python",
   "nbconvert_exporter": "python",
   "pygments_lexer": "ipython3",
   "version": "3.6.8"
  }
 },
 "nbformat": 4,
 "nbformat_minor": 2
}
