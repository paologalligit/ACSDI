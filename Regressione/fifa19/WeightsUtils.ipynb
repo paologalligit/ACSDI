{
 "cells": [
  {
   "cell_type": "code",
   "execution_count": 2,
   "metadata": {},
   "outputs": [],
   "source": [
    "from __future__ import print_function\n",
    "import pickle\n",
    "import h5py\n",
    "\n",
    "class WeightsUtils:\n",
    "    \n",
    "    def __init__(self, source):\n",
    "        self.source = source\n",
    "        \n",
    "    def extract_weights(self, file, debug=False):\n",
    "        f = h5py.File(file)\n",
    "        d = {}\n",
    "        try:\n",
    "            layer_count = 1\n",
    "            for layer, g in f.items():\n",
    "                for p_name in g.keys():\n",
    "                    param = g[p_name]\n",
    "                    for k_name in param.keys():\n",
    "                        ls = []\n",
    "                        for i in param.get(k_name):\n",
    "                            ls.append(i)\n",
    "                        if debug: print(\"      {}/{}: {} x {}\".format(p_name, k_name, len(ls), len(ls[0]) if k_name.startswith('kernel') else 0))\n",
    "                        label = k_name.split(':')[0]\n",
    "                        d['layer_{}_{}'.format(label, layer_count)] = ls\n",
    "                    layer_count += 1\n",
    "        finally:\n",
    "            f.close()\n",
    "\n",
    "        return d\n",
    "    \n",
    "    def get_weights(self):\n",
    "        if isinstance(self.source, str):\n",
    "            weights_dict = self.extract_weights(self.source)\n",
    "\n",
    "            w, b = [], []\n",
    "            for k, v in weights_dict.items():\n",
    "                if k.startswith('layer_kernel'): w.append(v)\n",
    "                else: b.append(v)\n",
    "                \n",
    "            return [i for i in zip(w, b)]\n",
    "        \n",
    "        else:\n",
    "            w = self.source.get_weights()\n",
    "            return [i for i in zip(*[iter(w)] * 2)]"
   ]
  },
  {
   "cell_type": "code",
   "execution_count": 3,
   "metadata": {},
   "outputs": [],
   "source": [
    "W = WeightsUtils('nn_weights.h5')\n",
    "\n",
    "w = W.get_weights()"
   ]
  },
  {
   "cell_type": "code",
   "execution_count": 43,
   "metadata": {},
   "outputs": [
    {
     "data": {
      "image/png": "[encoded data removed]",
      "text/plain": [
       "<Figure size 432x288 with 1 Axes>"
      ]
     },
     "metadata": {
      "needs_background": "light"
     },
     "output_type": "display_data"
    }
   ],
   "source": [
    "import matplotlib.pyplot as plt\n",
    "plt.hist(w[0][0], range=[-1, .5])\n",
    "    \n",
    "plt.show()"
   ]
  },
  {
   "cell_type": "code",
   "execution_count": 47,
   "metadata": {},
   "outputs": [
    {
     "data": {
      "image/png": "[encoded data removed]",
      "text/plain": [
       "<Figure size 432x288 with 1 Axes>"
      ]
     },
     "metadata": {
      "needs_background": "light"
     },
     "output_type": "display_data"
    }
   ],
   "source": [
    "plt.hist(w[1][0], range=[-.6, .4])\n",
    "    \n",
    "    \n",
    "plt.show()"
   ]
  },
  {
   "cell_type": "code",
   "execution_count": 49,
   "metadata": {},
   "outputs": [
    {
     "data": {
      "image/png": "[encoded data removed]",
      "text/plain": [
       "<Figure size 432x288 with 1 Axes>"
      ]
     },
     "metadata": {
      "needs_background": "light"
     },
     "output_type": "display_data"
    }
   ],
   "source": [
    "plt.hist(w[2][0], range=[-.75, .5])\n",
    "    \n",
    "    \n",
    "plt.show()"
   ]
  },
  {
   "cell_type": "code",
   "execution_count": null,
   "metadata": {},
   "outputs": [],
   "source": []
  }
 ],
 "metadata": {
  "kernelspec": {
   "display_name": "Python 3",
   "language": "python",
   "name": "python3"
  },
  "language_info": {
   "codemirror_mode": {
    "name": "ipython",
    "version": 3
   },
   "file_extension": ".py",
   "mimetype": "text/x-python",
   "name": "python",
   "nbconvert_exporter": "python",
   "pygments_lexer": "ipython3",
   "version": "3.6.8"
  }
 },
 "nbformat": 4,
 "nbformat_minor": 2
}
