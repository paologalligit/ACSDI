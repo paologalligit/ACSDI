{
 "cells": [
  {
   "cell_type": "code",
   "execution_count": 1,
   "metadata": {},
   "outputs": [],
   "source": [
    "from __future__ import print_function\n",
    "import h5py\n",
    "import numpy as np\n",
    "import pickle"
   ]
  },
  {
   "cell_type": "code",
   "execution_count": 2,
   "metadata": {},
   "outputs": [
    {
     "data": {
      "text/plain": [
       "{'nn_1': ['1 hidden, 10% pruning --> file 1: max error = [4.] -- mean error = [0.546875] -- abs error = [0.1058727]\\n',\n",
       "  '1 hidden, 20% pruning --> file 1: max error = [4.] -- mean error = [0.5234375] -- abs error = [0.10698382]\\n',\n",
       "  '1 hidden, 30% pruning --> file 1: max error = [4.] -- mean error = [0.5234375] -- abs error = [0.10910763]\\n',\n",
       "  '1 hidden, 40% pruning --> file 1: max error = [4.] -- mean error = [0.53125] -- abs error = [0.10995434]\\n',\n",
       "  '1 hidden, 50% pruning --> file 1: max error = [4.] -- mean error = [0.5546875] -- abs error = [0.11284145]\\n',\n",
       "  '1 hidden, 60% pruning --> file 1: max error = [4.] -- mean error = [0.5625] -- abs error = [0.11444971]\\n',\n",
       "  '1 hidden, 70% pruning --> file 1: max error = [4.] -- mean error = [0.578125] -- abs error = [0.11875157]\\n',\n",
       "  '1 hidden, 80% pruning --> file 1: max error = [4.] -- mean error = [0.609375] -- abs error = [0.13283287]\\n',\n",
       "  '1 hidden, 90% pruning --> file 1: max error = [4.] -- mean error = [0.5390625] -- abs error = [0.19835486]\\n'],\n",
       " 'nn_2': ['2 hidden, 10% pruning --> file 1: max error = [5.] -- mean error = [0.765625] -- abs error = [0.24832051]\\n',\n",
       "  '2 hidden, 20% pruning --> file 1: max error = [4.] -- mean error = [0.515625] -- abs error = [0.1132674]\\n',\n",
       "  '2 hidden, 30% pruning --> file 1: max error = [4.] -- mean error = [0.5390625] -- abs error = [0.11326666]\\n',\n",
       "  '2 hidden, 40% pruning --> file 1: max error = [5.] -- mean error = [0.65625] -- abs error = [0.26748797]\\n',\n",
       "  '2 hidden, 50% pruning --> file 1: max error = [4.] -- mean error = [0.578125] -- abs error = [0.11433101]\\n',\n",
       "  '2 hidden, 60% pruning --> file 1: max error = [4.] -- mean error = [0.5390625] -- abs error = [0.11502892]\\n',\n",
       "  '2 hidden, 70% pruning --> file 1: max error = [4.] -- mean error = [0.5390625] -- abs error = [0.12051902]\\n',\n",
       "  '2 hidden, 80% pruning --> file 1: max error = [4.] -- mean error = [0.546875] -- abs error = [0.12347947]\\n',\n",
       "  '2 hidden, 90% pruning --> file 1: max error = [4.] -- mean error = [0.578125] -- abs error = [0.15166164]\\n']}"
      ]
     },
     "execution_count": 2,
     "metadata": {},
     "output_type": "execute_result"
    }
   ],
   "source": [
    "with open('pruning/pruned_results_file1', 'rb') as f:\n",
    "    res = pickle.load(f)\n",
    "    \n",
    "res"
   ]
  },
  {
   "cell_type": "code",
   "execution_count": 3,
   "metadata": {},
   "outputs": [
    {
     "data": {
      "text/plain": [
       "{'nn_1': ['1 hidden, 10% pruning --> file 2: max error = [6.] -- mean error = [0.63671875] -- abs error = [0.10641727]\\n',\n",
       "  '1 hidden, 20% pruning --> file 2: max error = [6.] -- mean error = [0.66015625] -- abs error = [0.10634899]\\n',\n",
       "  '1 hidden, 30% pruning --> file 2: max error = [6.] -- mean error = [0.64453125] -- abs error = [0.1100532]\\n',\n",
       "  '1 hidden, 40% pruning --> file 2: max error = [7.] -- mean error = [0.66015625] -- abs error = [0.1124389]\\n',\n",
       "  '1 hidden, 50% pruning --> file 2: max error = [7.] -- mean error = [0.6484375] -- abs error = [0.11829669]\\n',\n",
       "  '1 hidden, 60% pruning --> file 2: max error = [7.] -- mean error = [0.6484375] -- abs error = [0.12329575]\\n',\n",
       "  '1 hidden, 70% pruning --> file 2: max error = [7.] -- mean error = [0.6796875] -- abs error = [0.13154287]\\n',\n",
       "  '1 hidden, 80% pruning --> file 2: max error = [7.] -- mean error = [0.703125] -- abs error = [0.15428024]\\n',\n",
       "  '1 hidden, 90% pruning --> file 2: max error = [7.] -- mean error = [0.80859375] -- abs error = [0.27626147]\\n'],\n",
       " 'nn_2': ['2 hidden, 10% pruning --> file 2: max error = [7.] -- mean error = [0.66796875] -- abs error = [0.12336271]\\n',\n",
       "  '2 hidden, 20% pruning --> file 2: max error = [7.] -- mean error = [0.6796875] -- abs error = [0.12312602]\\n',\n",
       "  '2 hidden, 30% pruning --> file 2: max error = [7.] -- mean error = [0.64453125] -- abs error = [0.12458879]\\n',\n",
       "  '2 hidden, 40% pruning --> file 2: max error = [7.] -- mean error = [0.6171875] -- abs error = [0.12665298]\\n',\n",
       "  '2 hidden, 50% pruning --> file 2: max error = [7.] -- mean error = [0.640625] -- abs error = [0.13062365]\\n',\n",
       "  '2 hidden, 60% pruning --> file 2: max error = [7.] -- mean error = [0.640625] -- abs error = [0.1331605]\\n',\n",
       "  '2 hidden, 70% pruning --> file 2: max error = [7.] -- mean error = [0.64453125] -- abs error = [0.13907848]\\n',\n",
       "  '2 hidden, 80% pruning --> file 2: max error = [7.] -- mean error = [0.6328125] -- abs error = [0.15107393]\\n',\n",
       "  '2 hidden, 90% pruning --> file 2: max error = [7.] -- mean error = [0.69921875] -- abs error = [0.19078075]\\n']}"
      ]
     },
     "execution_count": 3,
     "metadata": {},
     "output_type": "execute_result"
    }
   ],
   "source": [
    "with open('pruning/pruned_results_file2', 'rb') as f:\n",
    "    res = pickle.load(f)\n",
    "    \n",
    "res"
   ]
  },
  {
   "cell_type": "code",
   "execution_count": 4,
   "metadata": {},
   "outputs": [
    {
     "data": {
      "text/plain": [
       "{'nn_1': ['1 hidden, 10% pruning --> file 3: max error = [15.] -- mean error = [1.3125] -- abs error = [0.17820544]\\n',\n",
       "  '1 hidden, 20% pruning --> file 3: max error = [20.] -- mean error = [1.55273438] -- abs error = [0.34345253]\\n',\n",
       "  '1 hidden, 30% pruning --> file 3: max error = [20.] -- mean error = [1.83007812] -- abs error = [0.3200531]\\n',\n",
       "  '1 hidden, 40% pruning --> file 3: max error = [13.] -- mean error = [1.0234375] -- abs error = [0.13208087]\\n',\n",
       "  '1 hidden, 50% pruning --> file 3: max error = [13.] -- mean error = [1.0078125] -- abs error = [0.13887169]\\n',\n",
       "  '1 hidden, 60% pruning --> file 3: max error = [14.] -- mean error = [0.99414062] -- abs error = [0.15331746]\\n',\n",
       "  '1 hidden, 70% pruning --> file 3: max error = [14.] -- mean error = [1.03125] -- abs error = [0.18533919]\\n',\n",
       "  '1 hidden, 80% pruning --> file 3: max error = [15.] -- mean error = [1.4296875] -- abs error = [0.26714464]\\n',\n",
       "  '1 hidden, 90% pruning --> file 3: max error = [17.] -- mean error = [1.90039062] -- abs error = [0.37415105]\\n'],\n",
       " 'nn_2': ['2 hidden, 10% pruning --> file 3: max error = [13.] -- mean error = [1.01367188] -- abs error = [0.15793104]\\n',\n",
       "  '2 hidden, 20% pruning --> file 3: max error = [13.] -- mean error = [0.95898438] -- abs error = [0.15801011]\\n',\n",
       "  '2 hidden, 30% pruning --> file 3: max error = [13.] -- mean error = [0.98242188] -- abs error = [0.16255644]\\n',\n",
       "  '2 hidden, 40% pruning --> file 3: max error = [13.] -- mean error = [0.97070312] -- abs error = [0.16608973]\\n',\n",
       "  '2 hidden, 50% pruning --> file 3: max error = [13.] -- mean error = [0.97070312] -- abs error = [0.16668046]\\n',\n",
       "  '2 hidden, 60% pruning --> file 3: max error = [13.] -- mean error = [1.015625] -- abs error = [0.17592893]\\n',\n",
       "  '2 hidden, 70% pruning --> file 3: max error = [13.] -- mean error = [1.0703125] -- abs error = [0.19196494]\\n',\n",
       "  '2 hidden, 80% pruning --> file 3: max error = [13.] -- mean error = [1.15820312] -- abs error = [0.2131587]\\n',\n",
       "  '2 hidden, 90% pruning --> file 3: max error = [13.] -- mean error = [1.24414062] -- abs error = [0.23666045]\\n']}"
      ]
     },
     "execution_count": 4,
     "metadata": {},
     "output_type": "execute_result"
    }
   ],
   "source": [
    "with open('pruning/pruned_results_file3', 'rb') as f:\n",
    "    res = pickle.load(f)\n",
    "    \n",
    "res"
   ]
  },
  {
   "cell_type": "code",
   "execution_count": 5,
   "metadata": {},
   "outputs": [
    {
     "data": {
      "text/plain": [
       "{'nn_1': ['1 hidden, 10% pruning --> file 4: max error = [43.] -- mean error = [2.93164062] -- abs error = [0.29686637]\\n',\n",
       "  '1 hidden, 20% pruning --> file 4: max error = [30.] -- mean error = [1.90527344] -- abs error = [0.17340163]\\n',\n",
       "  '1 hidden, 30% pruning --> file 4: max error = [29.] -- mean error = [1.71972656] -- abs error = [0.17222614]\\n',\n",
       "  '1 hidden, 40% pruning --> file 4: max error = [30.] -- mean error = [1.734375] -- abs error = [0.17931767]\\n',\n",
       "  '1 hidden, 50% pruning --> file 4: max error = [27.] -- mean error = [1.70214844] -- abs error = [0.15588104]\\n',\n",
       "  '1 hidden, 60% pruning --> file 4: max error = [32.] -- mean error = [2.51074219] -- abs error = [0.2272024]\\n',\n",
       "  '1 hidden, 70% pruning --> file 4: max error = [30.] -- mean error = [2.12597656] -- abs error = [0.1979638]\\n',\n",
       "  '1 hidden, 80% pruning --> file 4: max error = [29.] -- mean error = [2.25585938] -- abs error = [0.21676713]\\n',\n",
       "  '1 hidden, 90% pruning --> file 4: max error = [30.] -- mean error = [2.99121094] -- abs error = [0.29252238]\\n'],\n",
       " 'nn_2': ['2 hidden, 10% pruning --> file 4: max error = [27.] -- mean error = [1.65136719] -- abs error = [0.15184279]\\n',\n",
       "  '2 hidden, 20% pruning --> file 4: max error = [26.] -- mean error = [1.65136719] -- abs error = [0.15436689]\\n',\n",
       "  '2 hidden, 30% pruning --> file 4: max error = [25.] -- mean error = [1.60449219] -- abs error = [0.15105753]\\n',\n",
       "  '2 hidden, 40% pruning --> file 4: max error = [27.] -- mean error = [1.734375] -- abs error = [0.16730275]\\n',\n",
       "  '2 hidden, 50% pruning --> file 4: max error = [27.] -- mean error = [1.82226562] -- abs error = [0.17938202]\\n',\n",
       "  '2 hidden, 60% pruning --> file 4: max error = [25.] -- mean error = [1.84667969] -- abs error = [0.18121061]\\n',\n",
       "  '2 hidden, 70% pruning --> file 4: max error = [27.] -- mean error = [2.1171875] -- abs error = [0.21123089]\\n',\n",
       "  '2 hidden, 80% pruning --> file 4: max error = [27.] -- mean error = [2.28417969] -- abs error = [0.22910577]\\n',\n",
       "  '2 hidden, 90% pruning --> file 4: max error = [27.] -- mean error = [2.37109375] -- abs error = [0.2343497]\\n']}"
      ]
     },
     "execution_count": 5,
     "metadata": {},
     "output_type": "execute_result"
    }
   ],
   "source": [
    "with open('pruning/pruned_results_file4', 'rb') as f:\n",
    "    res = pickle.load(f)\n",
    "    \n",
    "res"
   ]
  },
  {
   "cell_type": "code",
   "execution_count": 6,
   "metadata": {},
   "outputs": [
    {
     "data": {
      "text/plain": [
       "{'nn_1': ['1 hidden, 10% pruning --> file 5: max error = [55.] -- mean error = [3.27001953] -- abs error = [0.15029791]\\n',\n",
       "  '1 hidden, 20% pruning --> file 5: max error = [54.] -- mean error = [3.28320312] -- abs error = [0.15174609]\\n',\n",
       "  '1 hidden, 30% pruning --> file 5: max error = [54.] -- mean error = [3.48242188] -- abs error = [0.15990063]\\n',\n",
       "  '1 hidden, 40% pruning --> file 5: max error = [55.] -- mean error = [3.81005859] -- abs error = [0.17517219]\\n',\n",
       "  '1 hidden, 50% pruning --> file 5: max error = [55.] -- mean error = [3.80273438] -- abs error = [0.17509101]\\n',\n",
       "  '1 hidden, 60% pruning --> file 5: max error = [53.] -- mean error = [3.51269531] -- abs error = [0.164282]\\n',\n",
       "  '1 hidden, 70% pruning --> file 5: max error = [45.] -- mean error = [2.6171875] -- abs error = [0.12700036]\\n',\n",
       "  '1 hidden, 80% pruning --> file 5: max error = [56.] -- mean error = [3.80664062] -- abs error = [0.18122774]\\n',\n",
       "  '1 hidden, 90% pruning --> file 5: max error = [49.] -- mean error = [4.04980469] -- abs error = [0.19631202]\\n'],\n",
       " 'nn_2': ['2 hidden, 10% pruning --> file 5: max error = [48.] -- mean error = [2.91162109] -- abs error = [0.13867096]\\n',\n",
       "  '2 hidden, 20% pruning --> file 5: max error = [49.] -- mean error = [3.04541016] -- abs error = [0.14539577]\\n',\n",
       "  '2 hidden, 30% pruning --> file 5: max error = [48.] -- mean error = [3.04785156] -- abs error = [0.14523458]\\n',\n",
       "  '2 hidden, 40% pruning --> file 5: max error = [49.] -- mean error = [3.0546875] -- abs error = [0.14802944]\\n',\n",
       "  '2 hidden, 50% pruning --> file 5: max error = [49.] -- mean error = [3.12158203] -- abs error = [0.15082132]\\n',\n",
       "  '2 hidden, 60% pruning --> file 5: max error = [47.] -- mean error = [3.04296875] -- abs error = [0.14578126]\\n',\n",
       "  '2 hidden, 70% pruning --> file 5: max error = [48.] -- mean error = [3.18310547] -- abs error = [0.15171628]\\n',\n",
       "  '2 hidden, 80% pruning --> file 5: max error = [47.] -- mean error = [3.13818359] -- abs error = [0.14924825]\\n',\n",
       "  '2 hidden, 90% pruning --> file 5: max error = [47.] -- mean error = [3.36865234] -- abs error = [0.16328638]\\n']}"
      ]
     },
     "execution_count": 6,
     "metadata": {},
     "output_type": "execute_result"
    }
   ],
   "source": [
    "with open('pruning/pruned_results_file5', 'rb') as f:\n",
    "    res = pickle.load(f)\n",
    "    \n",
    "res"
   ]
  },
  {
   "cell_type": "code",
   "execution_count": 7,
   "metadata": {},
   "outputs": [
    {
     "data": {
      "text/plain": [
       "{'nn_1': ['1 hidden, 10% pruning --> file 6: max error = [102.] -- mean error = [5.59765625] -- abs error = [0.13214538]\\n',\n",
       "  '1 hidden, 20% pruning --> file 6: max error = [102.] -- mean error = [5.79370117] -- abs error = [0.13596671]\\n',\n",
       "  '1 hidden, 30% pruning --> file 6: max error = [87.] -- mean error = [4.80029297] -- abs error = [0.11213689]\\n',\n",
       "  '1 hidden, 40% pruning --> file 6: max error = [85.] -- mean error = [4.61425781] -- abs error = [0.10707939]\\n',\n",
       "  '1 hidden, 50% pruning --> file 6: max error = [90.] -- mean error = [4.87109375] -- abs error = [0.11368052]\\n',\n",
       "  '1 hidden, 60% pruning --> file 6: max error = [86.] -- mean error = [4.88720703] -- abs error = [0.11615109]\\n',\n",
       "  '1 hidden, 70% pruning --> file 6: max error = [84.] -- mean error = [4.63183594] -- abs error = [0.11117831]\\n',\n",
       "  '1 hidden, 80% pruning --> file 6: max error = [108.] -- mean error = [7.90380859] -- abs error = [0.19045713]\\n',\n",
       "  '1 hidden, 90% pruning --> file 6: max error = [62.] -- mean error = [7.37304688] -- abs error = [0.17934092]\\n'],\n",
       " 'nn_2': ['2 hidden, 10% pruning --> file 6: max error = [79.] -- mean error = [4.34741211] -- abs error = [0.1021564]\\n',\n",
       "  '2 hidden, 20% pruning --> file 6: max error = [81.] -- mean error = [4.46337891] -- abs error = [0.10485397]\\n',\n",
       "  '2 hidden, 30% pruning --> file 6: max error = [91.] -- mean error = [5.51733398] -- abs error = [0.12971206]\\n',\n",
       "  '2 hidden, 40% pruning --> file 6: max error = [85.] -- mean error = [5.21386719] -- abs error = [0.12181324]\\n',\n",
       "  '2 hidden, 50% pruning --> file 6: max error = [82.] -- mean error = [4.95800781] -- abs error = [0.11634288]\\n',\n",
       "  '2 hidden, 60% pruning --> file 6: max error = [88.] -- mean error = [5.84887695] -- abs error = [0.13787774]\\n',\n",
       "  '2 hidden, 70% pruning --> file 6: max error = [68.] -- mean error = [4.25976562] -- abs error = [0.09978962]\\n',\n",
       "  '2 hidden, 80% pruning --> file 6: max error = [78.] -- mean error = [5.40063477] -- abs error = [0.12974673]\\n',\n",
       "  '2 hidden, 90% pruning --> file 6: max error = [75.] -- mean error = [4.93359375] -- abs error = [0.11780675]\\n']}"
      ]
     },
     "execution_count": 7,
     "metadata": {},
     "output_type": "execute_result"
    }
   ],
   "source": [
    "with open('pruning/pruned_results_file6', 'rb') as f:\n",
    "    res = pickle.load(f)\n",
    "    \n",
    "res"
   ]
  },
  {
   "cell_type": "code",
   "execution_count": 8,
   "metadata": {},
   "outputs": [
    {
     "data": {
      "text/plain": [
       "{'nn_1': ['1 hidden, 10% pruning --> file 7: max error = [148.] -- mean error = [5.57592773] -- abs error = [0.06699533]\\n',\n",
       "  '1 hidden, 20% pruning --> file 7: max error = [154.] -- mean error = [6.28686523] -- abs error = [0.0760832]\\n',\n",
       "  '1 hidden, 30% pruning --> file 7: max error = [149.] -- mean error = [5.80004883] -- abs error = [0.07009735]\\n',\n",
       "  '1 hidden, 40% pruning --> file 7: max error = [149.] -- mean error = [6.09338379] -- abs error = [0.07303174]\\n',\n",
       "  '1 hidden, 50% pruning --> file 7: max error = [200.] -- mean error = [10.86889648] -- abs error = [0.13249794]\\n',\n",
       "  '1 hidden, 60% pruning --> file 7: max error = [150.] -- mean error = [6.67797852] -- abs error = [0.0815159]\\n',\n",
       "  '1 hidden, 70% pruning --> file 7: max error = [149.] -- mean error = [8.4810791] -- abs error = [0.10423425]\\n',\n",
       "  '1 hidden, 80% pruning --> file 7: max error = [191.] -- mean error = [12.03649902] -- abs error = [0.14761558]\\n',\n",
       "  '1 hidden, 90% pruning --> file 7: max error = [190.] -- mean error = [15.45727539] -- abs error = [0.1895636]\\n'],\n",
       " 'nn_2': ['2 hidden, 10% pruning --> file 7: max error = [140.] -- mean error = [6.04003906] -- abs error = [0.07168604]\\n',\n",
       "  '2 hidden, 20% pruning --> file 7: max error = [138.] -- mean error = [6.29248047] -- abs error = [0.07556647]\\n',\n",
       "  '2 hidden, 30% pruning --> file 7: max error = [143.] -- mean error = [6.19470215] -- abs error = [0.07403807]\\n',\n",
       "  '2 hidden, 40% pruning --> file 7: max error = [140.] -- mean error = [7.04052734] -- abs error = [0.08545232]\\n',\n",
       "  '2 hidden, 50% pruning --> file 7: max error = [144.] -- mean error = [7.2076416] -- abs error = [0.08935537]\\n',\n",
       "  '2 hidden, 60% pruning --> file 7: max error = [361.] -- mean error = [30.95507812] -- abs error = [0.37669148]\\n',\n",
       "  '2 hidden, 70% pruning --> file 7: max error = [141.] -- mean error = [7.17541504] -- abs error = [0.08950711]\\n',\n",
       "  '2 hidden, 80% pruning --> file 7: max error = [359.] -- mean error = [30.2598877] -- abs error = [0.36805906]\\n',\n",
       "  '2 hidden, 90% pruning --> file 7: max error = [142.] -- mean error = [9.02966309] -- abs error = [0.11027196]\\n']}"
      ]
     },
     "execution_count": 8,
     "metadata": {},
     "output_type": "execute_result"
    }
   ],
   "source": [
    "with open('pruning/pruned_results_file7', 'rb') as f:\n",
    "    res = pickle.load(f)\n",
    "    \n",
    "res"
   ]
  },
  {
   "cell_type": "code",
   "execution_count": 9,
   "metadata": {},
   "outputs": [
    {
     "data": {
      "text/plain": [
       "{'nn_1': ['1 hidden, 10% pruning --> file 8: max error = [263.] -- mean error = [8.77331543] -- abs error = [0.0537271]\\n',\n",
       "  '1 hidden, 20% pruning --> file 8: max error = [268.] -- mean error = [9.52954102] -- abs error = [0.0573018]\\n',\n",
       "  '1 hidden, 30% pruning --> file 8: max error = [269.] -- mean error = [8.72528076] -- abs error = [0.05279999]\\n',\n",
       "  '1 hidden, 40% pruning --> file 8: max error = [269.] -- mean error = [10.02258301] -- abs error = [0.06098119]\\n',\n",
       "  '1 hidden, 50% pruning --> file 8: max error = [279.] -- mean error = [12.38671875] -- abs error = [0.07561029]\\n',\n",
       "  '1 hidden, 60% pruning --> file 8: max error = [398.] -- mean error = [21.31567383] -- abs error = [0.1300146]\\n',\n",
       "  '1 hidden, 70% pruning --> file 8: max error = [281.] -- mean error = [13.61151123] -- abs error = [0.08288665]\\n',\n",
       "  '1 hidden, 80% pruning --> file 8: max error = [492.] -- mean error = [66.10528564] -- abs error = [0.4037037]\\n',\n",
       "  '1 hidden, 90% pruning --> file 8: max error = [281.] -- mean error = [21.63421631] -- abs error = [0.13256675]\\n'],\n",
       " 'nn_2': ['2 hidden, 10% pruning --> file 8: max error = [258.] -- mean error = [10.42260742] -- abs error = [0.06271282]\\n',\n",
       "  '2 hidden, 20% pruning --> file 8: max error = [252.] -- mean error = [10.19049072] -- abs error = [0.06143697]\\n',\n",
       "  '2 hidden, 30% pruning --> file 8: max error = [258.] -- mean error = [11.07489014] -- abs error = [0.06713174]\\n',\n",
       "  '2 hidden, 40% pruning --> file 8: max error = [273.] -- mean error = [10.82098389] -- abs error = [0.06563937]\\n',\n",
       "  '2 hidden, 50% pruning --> file 8: max error = [265.] -- mean error = [13.10192871] -- abs error = [0.07926928]\\n',\n",
       "  '2 hidden, 60% pruning --> file 8: max error = [263.] -- mean error = [12.51898193] -- abs error = [0.07532294]\\n',\n",
       "  '2 hidden, 70% pruning --> file 8: max error = [261.] -- mean error = [13.35693359] -- abs error = [0.08109478]\\n',\n",
       "  '2 hidden, 80% pruning --> file 8: max error = [718.] -- mean error = [59.21917725] -- abs error = [0.36268695]\\n',\n",
       "  '2 hidden, 90% pruning --> file 8: max error = [719.] -- mean error = [62.10632324] -- abs error = [0.37769558]\\n']}"
      ]
     },
     "execution_count": 9,
     "metadata": {},
     "output_type": "execute_result"
    }
   ],
   "source": [
    "with open('pruning/pruned_results_file8', 'rb') as f:\n",
    "    res = pickle.load(f)\n",
    "    \n",
    "res"
   ]
  },
  {
   "cell_type": "code",
   "execution_count": 10,
   "metadata": {},
   "outputs": [
    {
     "data": {
      "text/plain": [
       "{'nn_1': ['1 hidden, 10% pruning --> file 9: max error = [1560.] -- mean error = [32.68428802] -- abs error = [0.02490684]\\n',\n",
       "  '1 hidden, 20% pruning --> file 9: max error = [1600.] -- mean error = [40.34118652] -- abs error = [0.03085219]\\n',\n",
       "  '1 hidden, 30% pruning --> file 9: max error = [1548.] -- mean error = [42.22784424] -- abs error = [0.03222815]\\n',\n",
       "  '1 hidden, 40% pruning --> file 9: max error = [3421.] -- mean error = [366.8497467] -- abs error = [0.27997297]\\n',\n",
       "  '1 hidden, 50% pruning --> file 9: max error = [1694.] -- mean error = [61.94781494] -- abs error = [0.04717194]\\n',\n",
       "  '1 hidden, 60% pruning --> file 9: max error = [2122.] -- mean error = [73.866745] -- abs error = [0.05628429]\\n',\n",
       "  '1 hidden, 70% pruning --> file 9: max error = [3395.] -- mean error = [283.8581543] -- abs error = [0.2165249]\\n',\n",
       "  '1 hidden, 80% pruning --> file 9: max error = [2556.] -- mean error = [201.46951294] -- abs error = [0.15353888]\\n',\n",
       "  '1 hidden, 90% pruning --> file 9: max error = [3164.] -- mean error = [301.60095215] -- abs error = [0.23011226]\\n'],\n",
       " 'nn_2': ['2 hidden, 10% pruning --> file 9: max error = [1693.] -- mean error = [40.30784607] -- abs error = [0.03071353]\\n',\n",
       "  '2 hidden, 20% pruning --> file 9: max error = [1423.] -- mean error = [30.056427] -- abs error = [0.02286408]\\n',\n",
       "  '2 hidden, 30% pruning --> file 9: max error = [1460.] -- mean error = [34.80969238] -- abs error = [0.02654426]\\n',\n",
       "  '2 hidden, 40% pruning --> file 9: max error = [1589.] -- mean error = [46.82267761] -- abs error = [0.03570186]\\n',\n",
       "  '2 hidden, 50% pruning --> file 9: max error = [1646.] -- mean error = [46.4724884] -- abs error = [0.03537054]\\n',\n",
       "  '2 hidden, 60% pruning --> file 9: max error = [1580.] -- mean error = [43.66640472] -- abs error = [0.03316869]\\n',\n",
       "  '2 hidden, 70% pruning --> file 9: max error = [1598.] -- mean error = [51.68721008] -- abs error = [0.03927592]\\n',\n",
       "  '2 hidden, 80% pruning --> file 9: max error = [1497.] -- mean error = [44.85639191] -- abs error = [0.03418435]\\n',\n",
       "  '2 hidden, 90% pruning --> file 9: max error = [1593.] -- mean error = [51.24373627] -- abs error = [0.03893636]\\n']}"
      ]
     },
     "execution_count": 10,
     "metadata": {},
     "output_type": "execute_result"
    }
   ],
   "source": [
    "with open('pruning/pruned_results_file9', 'rb') as f:\n",
    "    res = pickle.load(f)\n",
    "    \n",
    "res"
   ]
  }
 ],
 "metadata": {
  "kernelspec": {
   "display_name": "Python 3",
   "language": "python",
   "name": "python3"
  },
  "language_info": {
   "codemirror_mode": {
    "name": "ipython",
    "version": 3
   },
   "file_extension": ".py",
   "mimetype": "text/x-python",
   "name": "python",
   "nbconvert_exporter": "python",
   "pygments_lexer": "ipython3",
   "version": "3.6.8"
  }
 },
 "nbformat": 4,
 "nbformat_minor": 2
}
